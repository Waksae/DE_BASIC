{
 "cells": [
  {
   "cell_type": "code",
   "execution_count": null,
   "id": "09bbcfea-bf8e-4be2-941d-ef853f7399a4",
   "metadata": {},
   "outputs": [],
   "source": [
    "import requests\n",
    "import pandas as pd\n",
    "\n",
    "API_KEY = '4eLk73kRBb1JohqtK9i513NajiNHHWpvG0cUtUzwRRuFubxNdKZdBz+XVn8aIc0Xg+ssFEbJt8xSavqerHVHPA=='\n",
    "LAWD_CD = '11110'\n",
    "DEAL_YMD = '202405'\n",
    "\n",
    "# 학교명 호출 함수\n",
    "def get_info(API_KEY, LAWD_CD, DEAL_YMD):\n",
    "    url = 'http://apis.data.go.kr/1613000/RTMSDataSvcAptTradeDev/getRTMSDataSvcAptTradeDev'\n",
    "    params = {\n",
    "        'LAWD_CD' : LAWD_CD,\n",
    "        'DEAL_YMD' : DEAL_YMD,\n",
    "        'serviceKey' : API_KEY,\n",
    "        'pageNo' : 1,\n",
    "        'numOfRows' : 100,\n",
    "        '_type': 'json'\n",
    "    }\n",
    "    try:\n",
    "        res = requests.get(url, params = params, timeout = 5)\n",
    "        print(f'응답코드 : {res.status_code}')\n",
    "        # print(f'응답본문 : {res.text}')\n",
    "        if res.status_code == 200:\n",
    "            data = res.json()\n",
    "            return data['response']['body']\n",
    "        else:\n",
    "            print('응답 없음', res.text)\n",
    "    except Exception as e:\n",
    "        print(f\"조회 오류 : {e}\")\n",
    "    return \"조회 불가\"\n",
    "\n",
    "raw_data = get_info(API_KEY, LAWD_CD, DEAL_YMD)\n",
    "\n",
    "cleaned_data = []\n",
    "for i in raw_data['items']['item'] :\n",
    "    cleaned_data.append({\n",
    "        \"행정구역\" : f\"{i['estateAgentSggNm']} {i['umdNm']}\",\n",
    "        \"아파트 이름\" : i['aptNm'],\n",
    "        \"아파트 동\" : i['aptDong'],\n",
    "        \"실거래가\" : f\"{i['dealAmount']}만원\",\n",
    "        \"거래유형\" : i['dealingGbn'],\n",
    "        \"전용면적\" : f\"{i['excluUseAr']} m2\"\n",
    "})\n",
    "df = pd.DataFrame(cleaned_data)\n",
    "\n",
    "df.to_csv(\"24년 5월 서울 실거래정보.csv\", index=False, encoding=\"utf-8-sig\")\n",
    "print(\"CSV 저장 완료: 24년 5월 서울 실거래정보.csv\")\n",
    "\n",
    "df"
   ]
  }
 ],
 "metadata": {
  "kernelspec": {
   "display_name": "Python (uv)",
   "language": "python",
   "name": "uv-jupyter"
  },
  "language_info": {
   "codemirror_mode": {
    "name": "ipython",
    "version": 3
   },
   "file_extension": ".py",
   "mimetype": "text/x-python",
   "name": "python",
   "nbconvert_exporter": "python",
   "pygments_lexer": "ipython3",
   "version": "3.11.12"
  }
 },
 "nbformat": 4,
 "nbformat_minor": 5
}
